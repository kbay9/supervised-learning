{
 "cells": [
  {
   "cell_type": "code",
   "execution_count": 92,
   "metadata": {},
   "outputs": [],
   "source": [
    "#importing libraries\n",
    "import numpy as np\n",
    "import pandas as pd"
   ]
  },
  {
   "cell_type": "code",
   "execution_count": 93,
   "metadata": {},
   "outputs": [],
   "source": [
    "#loading housing data\n",
    "housing = pd.read_csv('housing.csv')"
   ]
  },
  {
   "cell_type": "code",
   "execution_count": 94,
   "metadata": {},
   "outputs": [],
   "source": [
    "#spliting data into test and training set\n",
    "from sklearn.model_selection import train_test_split\n",
    "\n",
    "train, test = train_test_split(housing,test_size=0.2,random_state=42)"
   ]
  },
  {
   "cell_type": "code",
   "execution_count": 95,
   "metadata": {},
   "outputs": [
    {
     "data": {
      "text/plain": [
       "((16512, 10), (4128, 10))"
      ]
     },
     "execution_count": 95,
     "metadata": {},
     "output_type": "execute_result"
    }
   ],
   "source": [
    "#display the dimensions of the test and train data\n",
    "train.shape,test.shape"
   ]
  },
  {
   "cell_type": "code",
   "execution_count": 96,
   "metadata": {},
   "outputs": [],
   "source": [
    "# importing the SimpleImputer library and using the median strategy to fill missing data\n",
    "from sklearn.impute import SimpleImputer\n",
    "imputer = SimpleImputer(strategy = 'median')"
   ]
  },
  {
   "cell_type": "code",
   "execution_count": 97,
   "metadata": {},
   "outputs": [],
   "source": [
    "#dropping the 'ocean_promixity' column from the training dataset \n",
    "train_num = train.drop('ocean_proximity',axis =1)"
   ]
  },
  {
   "cell_type": "code",
   "execution_count": 98,
   "metadata": {},
   "outputs": [
    {
     "data": {
      "text/plain": [
       "SimpleImputer(strategy='median')"
      ]
     },
     "execution_count": 98,
     "metadata": {},
     "output_type": "execute_result"
    }
   ],
   "source": [
    "\n",
    "# fit the median strategy unto the numerical columns\n",
    "imputer.fit(train_num)"
   ]
  },
  {
   "cell_type": "code",
   "execution_count": 99,
   "metadata": {},
   "outputs": [
    {
     "data": {
      "text/plain": [
       "array([-1.1851e+02,  3.4260e+01,  2.9000e+01,  2.1290e+03,  4.3700e+02,\n",
       "        1.1670e+03,  4.1000e+02,  3.5458e+00,  1.7985e+05])"
      ]
     },
     "execution_count": 99,
     "metadata": {},
     "output_type": "execute_result"
    }
   ],
   "source": [
    "# display median value of various numerical columns\n",
    "imputer.statistics_"
   ]
  },
  {
   "cell_type": "code",
   "execution_count": 100,
   "metadata": {},
   "outputs": [],
   "source": [
    "#tranform numerical columns with median strategy\n",
    "X = imputer.transform(train_num)"
   ]
  },
  {
   "cell_type": "code",
   "execution_count": 101,
   "metadata": {},
   "outputs": [],
   "source": [
    "#converting transformed numerical columns back to a dataframe\n",
    "train_tr = pd.DataFrame(X,columns=train_num.columns)"
   ]
  },
  {
   "cell_type": "code",
   "execution_count": 102,
   "metadata": {},
   "outputs": [
    {
     "data": {
      "text/html": [
       "<div>\n",
       "<style scoped>\n",
       "    .dataframe tbody tr th:only-of-type {\n",
       "        vertical-align: middle;\n",
       "    }\n",
       "\n",
       "    .dataframe tbody tr th {\n",
       "        vertical-align: top;\n",
       "    }\n",
       "\n",
       "    .dataframe thead th {\n",
       "        text-align: right;\n",
       "    }\n",
       "</style>\n",
       "<table border=\"1\" class=\"dataframe\">\n",
       "  <thead>\n",
       "    <tr style=\"text-align: right;\">\n",
       "      <th></th>\n",
       "      <th>ocean_proximity</th>\n",
       "    </tr>\n",
       "  </thead>\n",
       "  <tbody>\n",
       "    <tr>\n",
       "      <th>14196</th>\n",
       "      <td>NEAR OCEAN</td>\n",
       "    </tr>\n",
       "    <tr>\n",
       "      <th>8267</th>\n",
       "      <td>NEAR OCEAN</td>\n",
       "    </tr>\n",
       "    <tr>\n",
       "      <th>17445</th>\n",
       "      <td>NEAR OCEAN</td>\n",
       "    </tr>\n",
       "    <tr>\n",
       "      <th>14265</th>\n",
       "      <td>NEAR OCEAN</td>\n",
       "    </tr>\n",
       "    <tr>\n",
       "      <th>2271</th>\n",
       "      <td>INLAND</td>\n",
       "    </tr>\n",
       "    <tr>\n",
       "      <th>17848</th>\n",
       "      <td>&lt;1H OCEAN</td>\n",
       "    </tr>\n",
       "    <tr>\n",
       "      <th>6252</th>\n",
       "      <td>&lt;1H OCEAN</td>\n",
       "    </tr>\n",
       "    <tr>\n",
       "      <th>9389</th>\n",
       "      <td>NEAR BAY</td>\n",
       "    </tr>\n",
       "    <tr>\n",
       "      <th>6113</th>\n",
       "      <td>&lt;1H OCEAN</td>\n",
       "    </tr>\n",
       "    <tr>\n",
       "      <th>6061</th>\n",
       "      <td>&lt;1H OCEAN</td>\n",
       "    </tr>\n",
       "  </tbody>\n",
       "</table>\n",
       "</div>"
      ],
      "text/plain": [
       "      ocean_proximity\n",
       "14196      NEAR OCEAN\n",
       "8267       NEAR OCEAN\n",
       "17445      NEAR OCEAN\n",
       "14265      NEAR OCEAN\n",
       "2271           INLAND\n",
       "17848       <1H OCEAN\n",
       "6252        <1H OCEAN\n",
       "9389         NEAR BAY\n",
       "6113        <1H OCEAN\n",
       "6061        <1H OCEAN"
      ]
     },
     "execution_count": 102,
     "metadata": {},
     "output_type": "execute_result"
    }
   ],
   "source": [
    "# copying the 'ocean_proximity' column into another variable\n",
    "train_cat =train[['ocean_proximity']]\n",
    "train_cat.head(10)"
   ]
  },
  {
   "cell_type": "code",
   "execution_count": 103,
   "metadata": {},
   "outputs": [
    {
     "data": {
      "text/plain": [
       "<16512x5 sparse matrix of type '<class 'numpy.float64'>'\n",
       "\twith 16512 stored elements in Compressed Sparse Row format>"
      ]
     },
     "execution_count": 103,
     "metadata": {},
     "output_type": "execute_result"
    }
   ],
   "source": [
    "# importing OneHotEncoder to encode categorical data\n",
    "from sklearn.preprocessing import OneHotEncoder\n",
    "cat_encoder = OneHotEncoder()\n",
    "train_cat_1hot = cat_encoder.fit_transform(train_cat)\n",
    "train_cat_1hot"
   ]
  },
  {
   "cell_type": "code",
   "execution_count": 104,
   "metadata": {},
   "outputs": [
    {
     "data": {
      "text/plain": [
       "array([[0., 0., 0., 0., 1.],\n",
       "       [0., 0., 0., 0., 1.],\n",
       "       [0., 0., 0., 0., 1.],\n",
       "       ...,\n",
       "       [1., 0., 0., 0., 0.],\n",
       "       [1., 0., 0., 0., 0.],\n",
       "       [0., 0., 0., 1., 0.]])"
      ]
     },
     "execution_count": 104,
     "metadata": {},
     "output_type": "execute_result"
    }
   ],
   "source": [
    "# converting the resulting sparse matrix to array\n",
    "train_cat_1hot.toarray()"
   ]
  },
  {
   "cell_type": "code",
   "execution_count": 105,
   "metadata": {},
   "outputs": [],
   "source": [
    "#feature engineering\n",
    "train['rooms_per_household'] = train['total_rooms']/train['households']\n",
    "train['bedrooms_per_room'] = train['total_bedrooms']/train['total_rooms']\n",
    "train['population_per_household'] = train['population']/train['households']"
   ]
  },
  {
   "cell_type": "code",
   "execution_count": 106,
   "metadata": {},
   "outputs": [
    {
     "data": {
      "text/plain": [
       "median_house_value          1.000000\n",
       "median_income               0.690647\n",
       "rooms_per_household         0.158485\n",
       "total_rooms                 0.133989\n",
       "housing_median_age          0.103706\n",
       "households                  0.063714\n",
       "total_bedrooms              0.047980\n",
       "population_per_household   -0.022030\n",
       "population                 -0.026032\n",
       "longitude                  -0.046349\n",
       "latitude                   -0.142983\n",
       "bedrooms_per_room          -0.257419\n",
       "Name: median_house_value, dtype: float64"
      ]
     },
     "execution_count": 106,
     "metadata": {},
     "output_type": "execute_result"
    }
   ],
   "source": [
    "\n",
    "corr_matrix = train.corr()\n",
    "corr_matrix['median_house_value'].sort_values(ascending = False)"
   ]
  },
  {
   "cell_type": "code",
   "execution_count": 107,
   "metadata": {},
   "outputs": [
    {
     "data": {
      "text/plain": [
       "14196    103000.0\n",
       "8267     382100.0\n",
       "17445    172600.0\n",
       "14265     93400.0\n",
       "2271      96500.0\n",
       "Name: median_house_value, dtype: float64"
      ]
     },
     "execution_count": 107,
     "metadata": {},
     "output_type": "execute_result"
    }
   ],
   "source": [
    "train_labels =train['median_house_value'].copy()\n",
    "#drop the labels from the train set via the pandas drop function\n",
    "train = train.drop('median_house_value',axis =1)\n",
    "train_num = train.drop('ocean_proximity',axis =1)\n",
    "\n",
    "train_labels.head()"
   ]
  },
  {
   "cell_type": "code",
   "execution_count": 108,
   "metadata": {},
   "outputs": [
    {
     "data": {
      "text/html": [
       "<div>\n",
       "<style scoped>\n",
       "    .dataframe tbody tr th:only-of-type {\n",
       "        vertical-align: middle;\n",
       "    }\n",
       "\n",
       "    .dataframe tbody tr th {\n",
       "        vertical-align: top;\n",
       "    }\n",
       "\n",
       "    .dataframe thead th {\n",
       "        text-align: right;\n",
       "    }\n",
       "</style>\n",
       "<table border=\"1\" class=\"dataframe\">\n",
       "  <thead>\n",
       "    <tr style=\"text-align: right;\">\n",
       "      <th></th>\n",
       "      <th>longitude</th>\n",
       "      <th>latitude</th>\n",
       "      <th>housing_median_age</th>\n",
       "      <th>total_rooms</th>\n",
       "      <th>total_bedrooms</th>\n",
       "      <th>population</th>\n",
       "      <th>households</th>\n",
       "      <th>median_income</th>\n",
       "      <th>ocean_proximity</th>\n",
       "      <th>rooms_per_household</th>\n",
       "      <th>bedrooms_per_room</th>\n",
       "      <th>population_per_household</th>\n",
       "    </tr>\n",
       "  </thead>\n",
       "  <tbody>\n",
       "    <tr>\n",
       "      <th>14196</th>\n",
       "      <td>-117.03</td>\n",
       "      <td>32.71</td>\n",
       "      <td>33.0</td>\n",
       "      <td>3126.0</td>\n",
       "      <td>627.0</td>\n",
       "      <td>2300.0</td>\n",
       "      <td>623.0</td>\n",
       "      <td>3.2596</td>\n",
       "      <td>NEAR OCEAN</td>\n",
       "      <td>5.017657</td>\n",
       "      <td>0.200576</td>\n",
       "      <td>3.691814</td>\n",
       "    </tr>\n",
       "    <tr>\n",
       "      <th>8267</th>\n",
       "      <td>-118.16</td>\n",
       "      <td>33.77</td>\n",
       "      <td>49.0</td>\n",
       "      <td>3382.0</td>\n",
       "      <td>787.0</td>\n",
       "      <td>1314.0</td>\n",
       "      <td>756.0</td>\n",
       "      <td>3.8125</td>\n",
       "      <td>NEAR OCEAN</td>\n",
       "      <td>4.473545</td>\n",
       "      <td>0.232703</td>\n",
       "      <td>1.738095</td>\n",
       "    </tr>\n",
       "    <tr>\n",
       "      <th>17445</th>\n",
       "      <td>-120.48</td>\n",
       "      <td>34.66</td>\n",
       "      <td>4.0</td>\n",
       "      <td>1897.0</td>\n",
       "      <td>331.0</td>\n",
       "      <td>915.0</td>\n",
       "      <td>336.0</td>\n",
       "      <td>4.1563</td>\n",
       "      <td>NEAR OCEAN</td>\n",
       "      <td>5.645833</td>\n",
       "      <td>0.174486</td>\n",
       "      <td>2.723214</td>\n",
       "    </tr>\n",
       "    <tr>\n",
       "      <th>14265</th>\n",
       "      <td>-117.11</td>\n",
       "      <td>32.69</td>\n",
       "      <td>36.0</td>\n",
       "      <td>1421.0</td>\n",
       "      <td>367.0</td>\n",
       "      <td>1418.0</td>\n",
       "      <td>355.0</td>\n",
       "      <td>1.9425</td>\n",
       "      <td>NEAR OCEAN</td>\n",
       "      <td>4.002817</td>\n",
       "      <td>0.258269</td>\n",
       "      <td>3.994366</td>\n",
       "    </tr>\n",
       "    <tr>\n",
       "      <th>2271</th>\n",
       "      <td>-119.80</td>\n",
       "      <td>36.78</td>\n",
       "      <td>43.0</td>\n",
       "      <td>2382.0</td>\n",
       "      <td>431.0</td>\n",
       "      <td>874.0</td>\n",
       "      <td>380.0</td>\n",
       "      <td>3.5542</td>\n",
       "      <td>INLAND</td>\n",
       "      <td>6.268421</td>\n",
       "      <td>0.180940</td>\n",
       "      <td>2.300000</td>\n",
       "    </tr>\n",
       "  </tbody>\n",
       "</table>\n",
       "</div>"
      ],
      "text/plain": [
       "       longitude  latitude  housing_median_age  total_rooms  total_bedrooms  \\\n",
       "14196    -117.03     32.71                33.0       3126.0           627.0   \n",
       "8267     -118.16     33.77                49.0       3382.0           787.0   \n",
       "17445    -120.48     34.66                 4.0       1897.0           331.0   \n",
       "14265    -117.11     32.69                36.0       1421.0           367.0   \n",
       "2271     -119.80     36.78                43.0       2382.0           431.0   \n",
       "\n",
       "       population  households  median_income ocean_proximity  \\\n",
       "14196      2300.0       623.0         3.2596      NEAR OCEAN   \n",
       "8267       1314.0       756.0         3.8125      NEAR OCEAN   \n",
       "17445       915.0       336.0         4.1563      NEAR OCEAN   \n",
       "14265      1418.0       355.0         1.9425      NEAR OCEAN   \n",
       "2271        874.0       380.0         3.5542          INLAND   \n",
       "\n",
       "       rooms_per_household  bedrooms_per_room  population_per_household  \n",
       "14196             5.017657           0.200576                  3.691814  \n",
       "8267              4.473545           0.232703                  1.738095  \n",
       "17445             5.645833           0.174486                  2.723214  \n",
       "14265             4.002817           0.258269                  3.994366  \n",
       "2271              6.268421           0.180940                  2.300000  "
      ]
     },
     "execution_count": 108,
     "metadata": {},
     "output_type": "execute_result"
    }
   ],
   "source": [
    "train.head()"
   ]
  },
  {
   "cell_type": "code",
   "execution_count": 109,
   "metadata": {},
   "outputs": [],
   "source": [
    "# Feature scaling with Standardardization\n",
    "from sklearn.pipeline import Pipeline\n",
    "from sklearn.preprocessing import StandardScaler\n",
    "num_pipeline = Pipeline([('imputer',SimpleImputer(strategy ='median')),('std_scaler',StandardScaler())])\n",
    "\n",
    "train_num_tr = num_pipeline.fit_transform(train_num)"
   ]
  },
  {
   "cell_type": "code",
   "execution_count": 110,
   "metadata": {},
   "outputs": [],
   "source": [
    "# combine separated numerical columns with categorical column\n",
    "from sklearn.compose import ColumnTransformer\n",
    "num_attribs = list(train_num)\n",
    "cat_attribs = ['ocean_proximity']\n",
    "\n",
    "full_pipeline = ColumnTransformer([('num',num_pipeline,num_attribs),('cat',OneHotEncoder(),cat_attribs)])\n",
    "train_prepared = full_pipeline.fit_transform(train)"
   ]
  },
  {
   "cell_type": "code",
   "execution_count": 111,
   "metadata": {},
   "outputs": [
    {
     "data": {
      "text/plain": [
       "(16512, 16)"
      ]
     },
     "execution_count": 111,
     "metadata": {},
     "output_type": "execute_result"
    }
   ],
   "source": [
    "train_prepared.shape"
   ]
  },
  {
   "cell_type": "code",
   "execution_count": 112,
   "metadata": {},
   "outputs": [
    {
     "data": {
      "text/plain": [
       "DecisionTreeRegressor()"
      ]
     },
     "execution_count": 112,
     "metadata": {},
     "output_type": "execute_result"
    }
   ],
   "source": [
    "# importing the decision tree model\n",
    "from sklearn.metrics import mean_squared_error\n",
    "from sklearn.tree import DecisionTreeRegressor\n",
    "tree_reg = DecisionTreeRegressor()\n",
    "tree_reg.fit(train_prepared,train_labels)"
   ]
  },
  {
   "cell_type": "code",
   "execution_count": 113,
   "metadata": {},
   "outputs": [
    {
     "data": {
      "text/plain": [
       "0.0"
      ]
     },
     "execution_count": 113,
     "metadata": {},
     "output_type": "execute_result"
    }
   ],
   "source": [
    "#calculating the root mean square value of the decision tree model on training data\n",
    "train_predictions = tree_reg.predict(train_prepared)\n",
    "tree_mse = mean_squared_error(train_labels, train_predictions)\n",
    "tree_rmse = np.sqrt(tree_mse)\n",
    "\n",
    "tree_rmse"
   ]
  },
  {
   "cell_type": "code",
   "execution_count": 114,
   "metadata": {},
   "outputs": [],
   "source": [
    "#cross validation for decision tree model\n",
    "from sklearn.model_selection import cross_val_score\n",
    "scores = cross_val_score(tree_reg,train_prepared,train_labels,scoring='neg_mean_squared_error',cv=10)\n",
    "tree_rmse_scores = np.sqrt(-scores)"
   ]
  },
  {
   "cell_type": "code",
   "execution_count": 115,
   "metadata": {},
   "outputs": [
    {
     "name": "stdout",
     "output_type": "stream",
     "text": [
      "scores: [66273.86506455 72059.12519435 67695.2179732  71779.44148925\n",
      " 72611.75008854 65685.27471234 67234.2128703  67421.37729482\n",
      " 66758.62935786 70369.29778524]\n",
      "mean: 68788.81918304403\n",
      "standard deviation: 2496.252219701509\n"
     ]
    }
   ],
   "source": [
    "#displaying the root mean squared error values of all cross validations, the mean of the scores and the standard deviation of all scores\n",
    "def display_scores(scores):\n",
    "    print('scores:',scores)\n",
    "    print('mean:',scores.mean())\n",
    "    print('standard deviation:',scores.std())\n",
    "display_scores(tree_rmse_scores)"
   ]
  },
  {
   "cell_type": "code",
   "execution_count": 116,
   "metadata": {},
   "outputs": [
    {
     "data": {
      "text/plain": [
       "0.0"
      ]
     },
     "execution_count": 116,
     "metadata": {},
     "output_type": "execute_result"
    }
   ],
   "source": [
    "\n",
    "# Loading training data into the RandomForestRegressor model\n",
    "from sklearn.ensemble import RandomForestRegressor\n",
    "forest_reg = RandomForestRegressor()\n",
    "forest_reg.fit(train_prepared,train_labels)\n",
    "\n",
    "training_predictions = forest_reg.predict(train_prepared)\n",
    "forest_mse = mean_squared_error(train_labels,train_predictions)\n",
    "\n",
    "forest_rmse = np.sqrt(forest_mse)\n",
    "forest_rmse"
   ]
  },
  {
   "cell_type": "code",
   "execution_count": 117,
   "metadata": {},
   "outputs": [
    {
     "name": "stdout",
     "output_type": "stream",
     "text": [
      "scores: [65222.78217435 69166.91754364 68977.13243318 67834.49278163\n",
      " 73636.13863165 69374.13541    66766.99302888 67706.38388344\n",
      " 68631.93313753 70023.1062499 ]\n",
      "mean: 68734.00152742179\n",
      "standard deviation: 2107.661149643172\n"
     ]
    }
   ],
   "source": [
    "#Cross validation of training set\n",
    "from sklearn.model_selection import cross_val_score\n",
    "forest_scores = cross_val_score(tree_reg,train_prepared,train_labels,scoring='neg_mean_squared_error',cv=10)\n",
    "forest_rmse_scores = np.sqrt(-forest_scores)\n",
    "display_scores(forest_rmse_scores)"
   ]
  },
  {
   "cell_type": "code",
   "execution_count": 118,
   "metadata": {},
   "outputs": [
    {
     "data": {
      "text/plain": [
       "GridSearchCV(cv=5, estimator=RandomForestRegressor(),\n",
       "             param_grid=[{'max_features': [2, 4, 6, 8],\n",
       "                          'n_estimators': [3, 10, 30]},\n",
       "                         {'bootstrap': [False], 'max_features': [2, 3, 4],\n",
       "                          'n_estimators': [3, 10]}],\n",
       "             return_train_score=True, scoring='neg_mean_squared_error')"
      ]
     },
     "execution_count": 118,
     "metadata": {},
     "output_type": "execute_result"
    }
   ],
   "source": [
    "#Hyperparameter tuning with GridSearchCV\n",
    "from sklearn.model_selection import GridSearchCV\n",
    "\n",
    "param_grid = [{'n_estimators':[3,10,30],'max_features':[2,4,6,8]},{'bootstrap':[False],'n_estimators':[3,10],\n",
    "'max_features':[2,3,4]}]\n",
    "\n",
    "forest_reg =RandomForestRegressor()\n",
    "grid_search = GridSearchCV(forest_reg,param_grid,cv=5,scoring ='neg_mean_squared_error',\n",
    "return_train_score = True)\n",
    "grid_search.fit(train_prepared,train_labels)"
   ]
  },
  {
   "cell_type": "code",
   "execution_count": 119,
   "metadata": {},
   "outputs": [
    {
     "data": {
      "text/plain": [
       "RandomForestRegressor(max_features=6, n_estimators=30)"
      ]
     },
     "execution_count": 119,
     "metadata": {},
     "output_type": "execute_result"
    }
   ],
   "source": [
    "#the optimum hyperparameters for the random forest model\n",
    "grid_search.best_estimator_"
   ]
  },
  {
   "cell_type": "code",
   "execution_count": 120,
   "metadata": {},
   "outputs": [
    {
     "name": "stdout",
     "output_type": "stream",
     "text": [
      "63968.75448952913 {'max_features': 2, 'n_estimators': 3}\n",
      "55043.839058982994 {'max_features': 2, 'n_estimators': 10}\n",
      "52261.26798936238 {'max_features': 2, 'n_estimators': 30}\n",
      "59561.289855778734 {'max_features': 4, 'n_estimators': 3}\n",
      "52715.14648651876 {'max_features': 4, 'n_estimators': 10}\n",
      "50281.69676057713 {'max_features': 4, 'n_estimators': 30}\n",
      "59348.57296342453 {'max_features': 6, 'n_estimators': 3}\n",
      "51333.177511957794 {'max_features': 6, 'n_estimators': 10}\n",
      "49871.192334154446 {'max_features': 6, 'n_estimators': 30}\n",
      "58648.73503785436 {'max_features': 8, 'n_estimators': 3}\n",
      "51969.29494453594 {'max_features': 8, 'n_estimators': 10}\n",
      "50071.95027406211 {'max_features': 8, 'n_estimators': 30}\n",
      "62470.73233201347 {'bootstrap': False, 'max_features': 2, 'n_estimators': 3}\n",
      "54500.01815838714 {'bootstrap': False, 'max_features': 2, 'n_estimators': 10}\n",
      "60059.6777394648 {'bootstrap': False, 'max_features': 3, 'n_estimators': 3}\n",
      "52522.83383280123 {'bootstrap': False, 'max_features': 3, 'n_estimators': 10}\n",
      "59234.54622719593 {'bootstrap': False, 'max_features': 4, 'n_estimators': 3}\n",
      "51303.03999691138 {'bootstrap': False, 'max_features': 4, 'n_estimators': 10}\n"
     ]
    }
   ],
   "source": [
    "#display of optimization iterations and the root mean squared value at each step\n",
    "cvres = grid_search.cv_results_\n",
    "for mean_score, params in zip(cvres['mean_test_score'],cvres['params']):\n",
    "    print(np.sqrt(-mean_score),params)"
   ]
  },
  {
   "cell_type": "code",
   "execution_count": 121,
   "metadata": {},
   "outputs": [],
   "source": [
    "# saving the best model from the grid_search_CV iteration\n",
    "import pickle\n",
    "filename = 'forest_housing_model.pkl'\n",
    "filename = 'forest_housing_model.sav'\n",
    "\n",
    "pickle.dump(grid_search.best_estimator_,open(filename,'wb'))"
   ]
  },
  {
   "cell_type": "code",
   "execution_count": 122,
   "metadata": {},
   "outputs": [],
   "source": [
    "# laoding training data into staochastic gradient regressor\n",
    "from sklearn.linear_model import SGDRegressor\n",
    "stochastic = SGDRegressor(random_state=25)\n",
    "stochastic.fit(train_prepared,train_labels)\n",
    "stochastic_train = stochastic.fit(train_prepared,train_labels)"
   ]
  },
  {
   "cell_type": "code",
   "execution_count": 123,
   "metadata": {},
   "outputs": [
    {
     "data": {
      "text/plain": [
       "67879.44998029819"
      ]
     },
     "execution_count": 123,
     "metadata": {},
     "output_type": "execute_result"
    }
   ],
   "source": [
    "# calculating the root mean squared value of the stochastic gradient descent algorithm\n",
    "train_predictions =stochastic.predict(train_prepared)\n",
    "stochastic_mse = mean_squared_error(train_labels,train_predictions)\n",
    "stochastic_rmse = np.sqrt(stochastic_mse)\n",
    "stochastic_rmse"
   ]
  },
  {
   "cell_type": "code",
   "execution_count": 124,
   "metadata": {},
   "outputs": [],
   "source": [
    "#A Stochastic Gradient Descent Model without cross validation and fine tuning is chosen as the final model as it performed better\n",
    "filename = 'stochastic_housing_model.pkl'\n",
    "filename = 'stochastic_housing_model.sav'\n",
    "pickle.dump(stochastic_train,open(filename,'wb'))"
   ]
  },
  {
   "cell_type": "code",
   "execution_count": 125,
   "metadata": {},
   "outputs": [
    {
     "name": "stdout",
     "output_type": "stream",
     "text": [
      "scores: [  102340.89808645   103369.98771779   388718.13796761   105769.91693549\n",
      "    90029.75164964    64901.45970082   211593.5173794     68684.63067833\n",
      " 28307762.66276588    69193.23624057]\n",
      "mean: 2951236.4199121995\n",
      "standard deviation: 8452700.785215924\n"
     ]
    }
   ],
   "source": [
    "# cross validation of the SGD model and the results of the cross validation were very poor\n",
    "from sklearn.model_selection import cross_val_score\n",
    "stochastic_scores = cross_val_score(stochastic,train_prepared,train_labels,scoring='neg_mean_squared_error',cv=10)\n",
    "stochastic_rmse_scores = np.sqrt(-stochastic_scores)\n",
    "display_scores(stochastic_rmse_scores)"
   ]
  },
  {
   "cell_type": "code",
   "execution_count": 126,
   "metadata": {},
   "outputs": [
    {
     "data": {
      "text/plain": [
       "dict_keys(['alpha', 'average', 'early_stopping', 'epsilon', 'eta0', 'fit_intercept', 'l1_ratio', 'learning_rate', 'loss', 'max_iter', 'n_iter_no_change', 'penalty', 'power_t', 'random_state', 'shuffle', 'tol', 'validation_fraction', 'verbose', 'warm_start'])"
      ]
     },
     "execution_count": 126,
     "metadata": {},
     "output_type": "execute_result"
    }
   ],
   "source": [
    "#get the parameters of the SGDRegressor function\n",
    "estimator = SGDRegressor()\n",
    "estimator.get_params().keys()"
   ]
  },
  {
   "cell_type": "code",
   "execution_count": 127,
   "metadata": {},
   "outputs": [
    {
     "data": {
      "text/plain": [
       "GridSearchCV(cv=5, estimator=SGDRegressor(random_state=42),\n",
       "             param_grid=[{'alpha': [0.001, 0.002, 0.003],\n",
       "                          'learning_rate': ['optimal'],\n",
       "                          'max_iter': [300, 500, 700, 1000],\n",
       "                          'random_state': [10, 20, 25, 35, 65]},\n",
       "                         {'alpha': [0.001, 0.002, 0.003],\n",
       "                          'learning_rate': ['optimal'],\n",
       "                          'max_iter': [300, 500, 700, 1000],\n",
       "                          'random_state': [10, 20, 25, 35, 65],\n",
       "                          'warm_start': [True]}],\n",
       "             return_train_score=True, scoring='neg_mean_squared_error')"
      ]
     },
     "execution_count": 127,
     "metadata": {},
     "output_type": "execute_result"
    }
   ],
   "source": [
    "#Fine tuning the SGD algorithm with GridSearchCV \n",
    "from sklearn.model_selection import GridSearchCV\n",
    "\n",
    "param_grid = [{'learning_rate':['optimal'],'max_iter':[300,500,700,1000], 'alpha':[0.001,0.002,0.003],'random_state':[10,20,25,35,65]},\n",
    "{'warm_start':[True],'learning_rate':['optimal'],\n",
    "'max_iter':[300,500,700,1000], 'alpha':[0.001,0.002,0.003],'random_state':[10,20,25,35,65]}]\n",
    "\n",
    "stochastic = SGDRegressor(random_state = 42)\n",
    "grid_search = GridSearchCV(stochastic,param_grid,cv=5,scoring ='neg_mean_squared_error',\n",
    "return_train_score = True)\n",
    "grid_search.fit(train_prepared,train_labels)"
   ]
  },
  {
   "cell_type": "code",
   "execution_count": 128,
   "metadata": {},
   "outputs": [
    {
     "data": {
      "text/plain": [
       "SGDRegressor(alpha=0.001, learning_rate='optimal', max_iter=300,\n",
       "             random_state=20)"
      ]
     },
     "execution_count": 128,
     "metadata": {},
     "output_type": "execute_result"
    }
   ],
   "source": [
    "grid_search.best_estimator_"
   ]
  },
  {
   "cell_type": "code",
   "execution_count": 129,
   "metadata": {},
   "outputs": [
    {
     "name": "stdout",
     "output_type": "stream",
     "text": [
      "210110370162.7432 {'alpha': 0.001, 'learning_rate': 'optimal', 'max_iter': 300, 'random_state': 10}\n",
      "10130252105.209005 {'alpha': 0.001, 'learning_rate': 'optimal', 'max_iter': 300, 'random_state': 20}\n",
      "195492611857.90668 {'alpha': 0.001, 'learning_rate': 'optimal', 'max_iter': 300, 'random_state': 25}\n",
      "80397542693.687 {'alpha': 0.001, 'learning_rate': 'optimal', 'max_iter': 300, 'random_state': 35}\n",
      "82583249454.26189 {'alpha': 0.001, 'learning_rate': 'optimal', 'max_iter': 300, 'random_state': 65}\n",
      "210110370162.7432 {'alpha': 0.001, 'learning_rate': 'optimal', 'max_iter': 500, 'random_state': 10}\n",
      "10130252105.209005 {'alpha': 0.001, 'learning_rate': 'optimal', 'max_iter': 500, 'random_state': 20}\n",
      "195492611857.90668 {'alpha': 0.001, 'learning_rate': 'optimal', 'max_iter': 500, 'random_state': 25}\n",
      "80397542693.687 {'alpha': 0.001, 'learning_rate': 'optimal', 'max_iter': 500, 'random_state': 35}\n",
      "82583249454.26189 {'alpha': 0.001, 'learning_rate': 'optimal', 'max_iter': 500, 'random_state': 65}\n",
      "210110370162.7432 {'alpha': 0.001, 'learning_rate': 'optimal', 'max_iter': 700, 'random_state': 10}\n",
      "10130252105.209005 {'alpha': 0.001, 'learning_rate': 'optimal', 'max_iter': 700, 'random_state': 20}\n",
      "195492611857.90668 {'alpha': 0.001, 'learning_rate': 'optimal', 'max_iter': 700, 'random_state': 25}\n",
      "80397542693.687 {'alpha': 0.001, 'learning_rate': 'optimal', 'max_iter': 700, 'random_state': 35}\n",
      "82583249454.26189 {'alpha': 0.001, 'learning_rate': 'optimal', 'max_iter': 700, 'random_state': 65}\n",
      "210110370162.7432 {'alpha': 0.001, 'learning_rate': 'optimal', 'max_iter': 1000, 'random_state': 10}\n",
      "10130252105.209005 {'alpha': 0.001, 'learning_rate': 'optimal', 'max_iter': 1000, 'random_state': 20}\n",
      "195492611857.90668 {'alpha': 0.001, 'learning_rate': 'optimal', 'max_iter': 1000, 'random_state': 25}\n",
      "80397542693.687 {'alpha': 0.001, 'learning_rate': 'optimal', 'max_iter': 1000, 'random_state': 35}\n",
      "82583249454.26189 {'alpha': 0.001, 'learning_rate': 'optimal', 'max_iter': 1000, 'random_state': 65}\n",
      "56536215441.94036 {'alpha': 0.002, 'learning_rate': 'optimal', 'max_iter': 300, 'random_state': 10}\n",
      "25584700923.395084 {'alpha': 0.002, 'learning_rate': 'optimal', 'max_iter': 300, 'random_state': 20}\n",
      "38493637018.47645 {'alpha': 0.002, 'learning_rate': 'optimal', 'max_iter': 300, 'random_state': 25}\n",
      "69457779871.9718 {'alpha': 0.002, 'learning_rate': 'optimal', 'max_iter': 300, 'random_state': 35}\n",
      "71760053342.4428 {'alpha': 0.002, 'learning_rate': 'optimal', 'max_iter': 300, 'random_state': 65}\n",
      "56536215441.94036 {'alpha': 0.002, 'learning_rate': 'optimal', 'max_iter': 500, 'random_state': 10}\n",
      "25584700923.395084 {'alpha': 0.002, 'learning_rate': 'optimal', 'max_iter': 500, 'random_state': 20}\n",
      "38493637018.47645 {'alpha': 0.002, 'learning_rate': 'optimal', 'max_iter': 500, 'random_state': 25}\n",
      "69457779871.9718 {'alpha': 0.002, 'learning_rate': 'optimal', 'max_iter': 500, 'random_state': 35}\n",
      "71760053342.4428 {'alpha': 0.002, 'learning_rate': 'optimal', 'max_iter': 500, 'random_state': 65}\n",
      "56536215441.94036 {'alpha': 0.002, 'learning_rate': 'optimal', 'max_iter': 700, 'random_state': 10}\n",
      "25584700923.395084 {'alpha': 0.002, 'learning_rate': 'optimal', 'max_iter': 700, 'random_state': 20}\n",
      "38493637018.47645 {'alpha': 0.002, 'learning_rate': 'optimal', 'max_iter': 700, 'random_state': 25}\n",
      "69457779871.9718 {'alpha': 0.002, 'learning_rate': 'optimal', 'max_iter': 700, 'random_state': 35}\n",
      "71760053342.4428 {'alpha': 0.002, 'learning_rate': 'optimal', 'max_iter': 700, 'random_state': 65}\n",
      "56536215441.94036 {'alpha': 0.002, 'learning_rate': 'optimal', 'max_iter': 1000, 'random_state': 10}\n",
      "25584700923.395084 {'alpha': 0.002, 'learning_rate': 'optimal', 'max_iter': 1000, 'random_state': 20}\n",
      "38493637018.47645 {'alpha': 0.002, 'learning_rate': 'optimal', 'max_iter': 1000, 'random_state': 25}\n",
      "69457779871.9718 {'alpha': 0.002, 'learning_rate': 'optimal', 'max_iter': 1000, 'random_state': 35}\n",
      "71760053342.4428 {'alpha': 0.002, 'learning_rate': 'optimal', 'max_iter': 1000, 'random_state': 65}\n",
      "71434733963.72208 {'alpha': 0.003, 'learning_rate': 'optimal', 'max_iter': 300, 'random_state': 10}\n",
      "12130066246.840895 {'alpha': 0.003, 'learning_rate': 'optimal', 'max_iter': 300, 'random_state': 20}\n",
      "65306835036.96083 {'alpha': 0.003, 'learning_rate': 'optimal', 'max_iter': 300, 'random_state': 25}\n",
      "16195483222.926613 {'alpha': 0.003, 'learning_rate': 'optimal', 'max_iter': 300, 'random_state': 35}\n",
      "28888119828.754642 {'alpha': 0.003, 'learning_rate': 'optimal', 'max_iter': 300, 'random_state': 65}\n",
      "71434733963.72208 {'alpha': 0.003, 'learning_rate': 'optimal', 'max_iter': 500, 'random_state': 10}\n",
      "12130066246.840895 {'alpha': 0.003, 'learning_rate': 'optimal', 'max_iter': 500, 'random_state': 20}\n",
      "65306835036.96083 {'alpha': 0.003, 'learning_rate': 'optimal', 'max_iter': 500, 'random_state': 25}\n",
      "16195483222.926613 {'alpha': 0.003, 'learning_rate': 'optimal', 'max_iter': 500, 'random_state': 35}\n",
      "28888119828.754642 {'alpha': 0.003, 'learning_rate': 'optimal', 'max_iter': 500, 'random_state': 65}\n",
      "71434733963.72208 {'alpha': 0.003, 'learning_rate': 'optimal', 'max_iter': 700, 'random_state': 10}\n",
      "12130066246.840895 {'alpha': 0.003, 'learning_rate': 'optimal', 'max_iter': 700, 'random_state': 20}\n",
      "65306835036.96083 {'alpha': 0.003, 'learning_rate': 'optimal', 'max_iter': 700, 'random_state': 25}\n",
      "16195483222.926613 {'alpha': 0.003, 'learning_rate': 'optimal', 'max_iter': 700, 'random_state': 35}\n",
      "28888119828.754642 {'alpha': 0.003, 'learning_rate': 'optimal', 'max_iter': 700, 'random_state': 65}\n",
      "71434733963.72208 {'alpha': 0.003, 'learning_rate': 'optimal', 'max_iter': 1000, 'random_state': 10}\n",
      "12130066246.840895 {'alpha': 0.003, 'learning_rate': 'optimal', 'max_iter': 1000, 'random_state': 20}\n",
      "65306835036.96083 {'alpha': 0.003, 'learning_rate': 'optimal', 'max_iter': 1000, 'random_state': 25}\n",
      "16195483222.926613 {'alpha': 0.003, 'learning_rate': 'optimal', 'max_iter': 1000, 'random_state': 35}\n",
      "28888119828.754642 {'alpha': 0.003, 'learning_rate': 'optimal', 'max_iter': 1000, 'random_state': 65}\n",
      "210110370162.7432 {'alpha': 0.001, 'learning_rate': 'optimal', 'max_iter': 300, 'random_state': 10, 'warm_start': True}\n",
      "10130252105.209005 {'alpha': 0.001, 'learning_rate': 'optimal', 'max_iter': 300, 'random_state': 20, 'warm_start': True}\n",
      "195492611857.90668 {'alpha': 0.001, 'learning_rate': 'optimal', 'max_iter': 300, 'random_state': 25, 'warm_start': True}\n",
      "80397542693.687 {'alpha': 0.001, 'learning_rate': 'optimal', 'max_iter': 300, 'random_state': 35, 'warm_start': True}\n",
      "82583249454.26189 {'alpha': 0.001, 'learning_rate': 'optimal', 'max_iter': 300, 'random_state': 65, 'warm_start': True}\n",
      "210110370162.7432 {'alpha': 0.001, 'learning_rate': 'optimal', 'max_iter': 500, 'random_state': 10, 'warm_start': True}\n",
      "10130252105.209005 {'alpha': 0.001, 'learning_rate': 'optimal', 'max_iter': 500, 'random_state': 20, 'warm_start': True}\n",
      "195492611857.90668 {'alpha': 0.001, 'learning_rate': 'optimal', 'max_iter': 500, 'random_state': 25, 'warm_start': True}\n",
      "80397542693.687 {'alpha': 0.001, 'learning_rate': 'optimal', 'max_iter': 500, 'random_state': 35, 'warm_start': True}\n",
      "82583249454.26189 {'alpha': 0.001, 'learning_rate': 'optimal', 'max_iter': 500, 'random_state': 65, 'warm_start': True}\n",
      "210110370162.7432 {'alpha': 0.001, 'learning_rate': 'optimal', 'max_iter': 700, 'random_state': 10, 'warm_start': True}\n",
      "10130252105.209005 {'alpha': 0.001, 'learning_rate': 'optimal', 'max_iter': 700, 'random_state': 20, 'warm_start': True}\n",
      "195492611857.90668 {'alpha': 0.001, 'learning_rate': 'optimal', 'max_iter': 700, 'random_state': 25, 'warm_start': True}\n",
      "80397542693.687 {'alpha': 0.001, 'learning_rate': 'optimal', 'max_iter': 700, 'random_state': 35, 'warm_start': True}\n",
      "82583249454.26189 {'alpha': 0.001, 'learning_rate': 'optimal', 'max_iter': 700, 'random_state': 65, 'warm_start': True}\n",
      "210110370162.7432 {'alpha': 0.001, 'learning_rate': 'optimal', 'max_iter': 1000, 'random_state': 10, 'warm_start': True}\n",
      "10130252105.209005 {'alpha': 0.001, 'learning_rate': 'optimal', 'max_iter': 1000, 'random_state': 20, 'warm_start': True}\n",
      "195492611857.90668 {'alpha': 0.001, 'learning_rate': 'optimal', 'max_iter': 1000, 'random_state': 25, 'warm_start': True}\n",
      "80397542693.687 {'alpha': 0.001, 'learning_rate': 'optimal', 'max_iter': 1000, 'random_state': 35, 'warm_start': True}\n",
      "82583249454.26189 {'alpha': 0.001, 'learning_rate': 'optimal', 'max_iter': 1000, 'random_state': 65, 'warm_start': True}\n",
      "56536215441.94036 {'alpha': 0.002, 'learning_rate': 'optimal', 'max_iter': 300, 'random_state': 10, 'warm_start': True}\n",
      "25584700923.395084 {'alpha': 0.002, 'learning_rate': 'optimal', 'max_iter': 300, 'random_state': 20, 'warm_start': True}\n",
      "38493637018.47645 {'alpha': 0.002, 'learning_rate': 'optimal', 'max_iter': 300, 'random_state': 25, 'warm_start': True}\n",
      "69457779871.9718 {'alpha': 0.002, 'learning_rate': 'optimal', 'max_iter': 300, 'random_state': 35, 'warm_start': True}\n",
      "71760053342.4428 {'alpha': 0.002, 'learning_rate': 'optimal', 'max_iter': 300, 'random_state': 65, 'warm_start': True}\n",
      "56536215441.94036 {'alpha': 0.002, 'learning_rate': 'optimal', 'max_iter': 500, 'random_state': 10, 'warm_start': True}\n",
      "25584700923.395084 {'alpha': 0.002, 'learning_rate': 'optimal', 'max_iter': 500, 'random_state': 20, 'warm_start': True}\n",
      "38493637018.47645 {'alpha': 0.002, 'learning_rate': 'optimal', 'max_iter': 500, 'random_state': 25, 'warm_start': True}\n",
      "69457779871.9718 {'alpha': 0.002, 'learning_rate': 'optimal', 'max_iter': 500, 'random_state': 35, 'warm_start': True}\n",
      "71760053342.4428 {'alpha': 0.002, 'learning_rate': 'optimal', 'max_iter': 500, 'random_state': 65, 'warm_start': True}\n",
      "56536215441.94036 {'alpha': 0.002, 'learning_rate': 'optimal', 'max_iter': 700, 'random_state': 10, 'warm_start': True}\n",
      "25584700923.395084 {'alpha': 0.002, 'learning_rate': 'optimal', 'max_iter': 700, 'random_state': 20, 'warm_start': True}\n",
      "38493637018.47645 {'alpha': 0.002, 'learning_rate': 'optimal', 'max_iter': 700, 'random_state': 25, 'warm_start': True}\n",
      "69457779871.9718 {'alpha': 0.002, 'learning_rate': 'optimal', 'max_iter': 700, 'random_state': 35, 'warm_start': True}\n",
      "71760053342.4428 {'alpha': 0.002, 'learning_rate': 'optimal', 'max_iter': 700, 'random_state': 65, 'warm_start': True}\n",
      "56536215441.94036 {'alpha': 0.002, 'learning_rate': 'optimal', 'max_iter': 1000, 'random_state': 10, 'warm_start': True}\n",
      "25584700923.395084 {'alpha': 0.002, 'learning_rate': 'optimal', 'max_iter': 1000, 'random_state': 20, 'warm_start': True}\n",
      "38493637018.47645 {'alpha': 0.002, 'learning_rate': 'optimal', 'max_iter': 1000, 'random_state': 25, 'warm_start': True}\n",
      "69457779871.9718 {'alpha': 0.002, 'learning_rate': 'optimal', 'max_iter': 1000, 'random_state': 35, 'warm_start': True}\n",
      "71760053342.4428 {'alpha': 0.002, 'learning_rate': 'optimal', 'max_iter': 1000, 'random_state': 65, 'warm_start': True}\n",
      "71434733963.72208 {'alpha': 0.003, 'learning_rate': 'optimal', 'max_iter': 300, 'random_state': 10, 'warm_start': True}\n",
      "12130066246.840895 {'alpha': 0.003, 'learning_rate': 'optimal', 'max_iter': 300, 'random_state': 20, 'warm_start': True}\n",
      "65306835036.96083 {'alpha': 0.003, 'learning_rate': 'optimal', 'max_iter': 300, 'random_state': 25, 'warm_start': True}\n",
      "16195483222.926613 {'alpha': 0.003, 'learning_rate': 'optimal', 'max_iter': 300, 'random_state': 35, 'warm_start': True}\n",
      "28888119828.754642 {'alpha': 0.003, 'learning_rate': 'optimal', 'max_iter': 300, 'random_state': 65, 'warm_start': True}\n",
      "71434733963.72208 {'alpha': 0.003, 'learning_rate': 'optimal', 'max_iter': 500, 'random_state': 10, 'warm_start': True}\n",
      "12130066246.840895 {'alpha': 0.003, 'learning_rate': 'optimal', 'max_iter': 500, 'random_state': 20, 'warm_start': True}\n",
      "65306835036.96083 {'alpha': 0.003, 'learning_rate': 'optimal', 'max_iter': 500, 'random_state': 25, 'warm_start': True}\n",
      "16195483222.926613 {'alpha': 0.003, 'learning_rate': 'optimal', 'max_iter': 500, 'random_state': 35, 'warm_start': True}\n",
      "28888119828.754642 {'alpha': 0.003, 'learning_rate': 'optimal', 'max_iter': 500, 'random_state': 65, 'warm_start': True}\n",
      "71434733963.72208 {'alpha': 0.003, 'learning_rate': 'optimal', 'max_iter': 700, 'random_state': 10, 'warm_start': True}\n",
      "12130066246.840895 {'alpha': 0.003, 'learning_rate': 'optimal', 'max_iter': 700, 'random_state': 20, 'warm_start': True}\n",
      "65306835036.96083 {'alpha': 0.003, 'learning_rate': 'optimal', 'max_iter': 700, 'random_state': 25, 'warm_start': True}\n",
      "16195483222.926613 {'alpha': 0.003, 'learning_rate': 'optimal', 'max_iter': 700, 'random_state': 35, 'warm_start': True}\n",
      "28888119828.754642 {'alpha': 0.003, 'learning_rate': 'optimal', 'max_iter': 700, 'random_state': 65, 'warm_start': True}\n",
      "71434733963.72208 {'alpha': 0.003, 'learning_rate': 'optimal', 'max_iter': 1000, 'random_state': 10, 'warm_start': True}\n",
      "12130066246.840895 {'alpha': 0.003, 'learning_rate': 'optimal', 'max_iter': 1000, 'random_state': 20, 'warm_start': True}\n",
      "65306835036.96083 {'alpha': 0.003, 'learning_rate': 'optimal', 'max_iter': 1000, 'random_state': 25, 'warm_start': True}\n",
      "16195483222.926613 {'alpha': 0.003, 'learning_rate': 'optimal', 'max_iter': 1000, 'random_state': 35, 'warm_start': True}\n",
      "28888119828.754642 {'alpha': 0.003, 'learning_rate': 'optimal', 'max_iter': 1000, 'random_state': 65, 'warm_start': True}\n"
     ]
    }
   ],
   "source": [
    "#displaying the various iterations used by the grid_searchCV algorithm\n",
    "kbay = grid_search.cv_results_\n",
    "for mean_score, params in zip(kbay['mean_test_score'],kbay['params']):\n",
    "    print(np.sqrt(-mean_score),params)"
   ]
  },
  {
   "cell_type": "code",
   "execution_count": null,
   "metadata": {},
   "outputs": [],
   "source": []
  },
  {
   "cell_type": "code",
   "execution_count": null,
   "metadata": {},
   "outputs": [],
   "source": []
  }
 ],
 "metadata": {
  "kernelspec": {
   "display_name": "Python 3.10.5 64-bit",
   "language": "python",
   "name": "python3"
  },
  "language_info": {
   "codemirror_mode": {
    "name": "ipython",
    "version": 3
   },
   "file_extension": ".py",
   "mimetype": "text/x-python",
   "name": "python",
   "nbconvert_exporter": "python",
   "pygments_lexer": "ipython3",
   "version": "3.10.5"
  },
  "orig_nbformat": 4,
  "vscode": {
   "interpreter": {
    "hash": "8c3d4d9970fc5c09c50d9318a9c7fbf4d0159e4b28833276f5678ee22bded273"
   }
  }
 },
 "nbformat": 4,
 "nbformat_minor": 2
}
