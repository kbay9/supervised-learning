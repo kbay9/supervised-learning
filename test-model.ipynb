{
 "cells": [
  {
   "cell_type": "code",
   "execution_count": 101,
   "metadata": {},
   "outputs": [],
   "source": [
    "#importing libraries\n",
    "import pandas as pd\n",
    "import numpy as np"
   ]
  },
  {
   "cell_type": "code",
   "execution_count": 102,
   "metadata": {},
   "outputs": [],
   "source": [
    "#Name: Kobena Badu Enyam\n",
    "#Email: kobena.badu@azubiafrica.org"
   ]
  },
  {
   "cell_type": "code",
   "execution_count": 103,
   "metadata": {},
   "outputs": [],
   "source": [
    "#loading data\n",
    "housing =pd.read_csv('housing.csv')"
   ]
  },
  {
   "cell_type": "code",
   "execution_count": 104,
   "metadata": {},
   "outputs": [],
   "source": [
    "#dividing data into training and test set\n",
    "from sklearn.model_selection import train_test_split\n",
    "train,test = train_test_split(housing,test_size=0.2,random_state=42)"
   ]
  },
  {
   "cell_type": "code",
   "execution_count": 105,
   "metadata": {},
   "outputs": [
    {
     "data": {
      "text/plain": [
       "((4128, 10), (4128, 10))"
      ]
     },
     "execution_count": 105,
     "metadata": {},
     "output_type": "execute_result"
    }
   ],
   "source": [
    "# checking the dimensions of the training and test split\n",
    "test.shape,test.shape"
   ]
  },
  {
   "cell_type": "code",
   "execution_count": 106,
   "metadata": {},
   "outputs": [],
   "source": [
    "# filling missing values in numericals with median values\n",
    "from sklearn.impute import SimpleImputer\n",
    "imputer = SimpleImputer(strategy='median')"
   ]
  },
  {
   "cell_type": "code",
   "execution_count": 107,
   "metadata": {},
   "outputs": [],
   "source": [
    "# dropping the 'ocean_proximity' column in test data\n",
    "test_num = test.drop('ocean_proximity',axis =1)"
   ]
  },
  {
   "cell_type": "code",
   "execution_count": 108,
   "metadata": {},
   "outputs": [
    {
     "data": {
      "text/plain": [
       "SimpleImputer(strategy='median')"
      ]
     },
     "execution_count": 108,
     "metadata": {},
     "output_type": "execute_result"
    }
   ],
   "source": [
    "# applying the median strategy on numerical columns\n",
    "imputer.fit(test_num)"
   ]
  },
  {
   "cell_type": "code",
   "execution_count": 109,
   "metadata": {},
   "outputs": [
    {
     "data": {
      "text/plain": [
       "array([-1.1847e+02,  3.4230e+01,  2.9000e+01,  2.1100e+03,  4.2800e+02,\n",
       "        1.1600e+03,  4.0600e+02,  3.5000e+00,  1.7865e+05])"
      ]
     },
     "execution_count": 109,
     "metadata": {},
     "output_type": "execute_result"
    }
   ],
   "source": [
    "# computing the median for each  numerical column\n",
    "imputer.statistics_"
   ]
  },
  {
   "cell_type": "code",
   "execution_count": 110,
   "metadata": {},
   "outputs": [
    {
     "data": {
      "text/plain": [
       "array([-1.1847e+02,  3.4230e+01,  2.9000e+01,  2.1100e+03,  4.2800e+02,\n",
       "        1.1600e+03,  4.0600e+02,  3.5000e+00,  1.7865e+05])"
      ]
     },
     "execution_count": 110,
     "metadata": {},
     "output_type": "execute_result"
    }
   ],
   "source": [
    "# computing the median for each numerical column\n",
    "test_num.median().values"
   ]
  },
  {
   "cell_type": "code",
   "execution_count": 111,
   "metadata": {},
   "outputs": [],
   "source": [
    "# tranform the numerical columns with the median strategy to fill missing values\n",
    "Y = imputer.transform(test_num)"
   ]
  },
  {
   "cell_type": "code",
   "execution_count": 112,
   "metadata": {},
   "outputs": [],
   "source": [
    "# converting the transformed numerical columns from a numpy array to a dataframe\n",
    "test_tr = pd.DataFrame(Y,columns = test_num.columns)"
   ]
  },
  {
   "cell_type": "code",
   "execution_count": 113,
   "metadata": {},
   "outputs": [
    {
     "data": {
      "text/html": [
       "<div>\n",
       "<style scoped>\n",
       "    .dataframe tbody tr th:only-of-type {\n",
       "        vertical-align: middle;\n",
       "    }\n",
       "\n",
       "    .dataframe tbody tr th {\n",
       "        vertical-align: top;\n",
       "    }\n",
       "\n",
       "    .dataframe thead th {\n",
       "        text-align: right;\n",
       "    }\n",
       "</style>\n",
       "<table border=\"1\" class=\"dataframe\">\n",
       "  <thead>\n",
       "    <tr style=\"text-align: right;\">\n",
       "      <th></th>\n",
       "      <th>ocean_proximity</th>\n",
       "    </tr>\n",
       "  </thead>\n",
       "  <tbody>\n",
       "    <tr>\n",
       "      <th>20046</th>\n",
       "      <td>INLAND</td>\n",
       "    </tr>\n",
       "    <tr>\n",
       "      <th>3024</th>\n",
       "      <td>INLAND</td>\n",
       "    </tr>\n",
       "    <tr>\n",
       "      <th>15663</th>\n",
       "      <td>NEAR BAY</td>\n",
       "    </tr>\n",
       "    <tr>\n",
       "      <th>20484</th>\n",
       "      <td>&lt;1H OCEAN</td>\n",
       "    </tr>\n",
       "    <tr>\n",
       "      <th>9814</th>\n",
       "      <td>NEAR OCEAN</td>\n",
       "    </tr>\n",
       "  </tbody>\n",
       "</table>\n",
       "</div>"
      ],
      "text/plain": [
       "      ocean_proximity\n",
       "20046          INLAND\n",
       "3024           INLAND\n",
       "15663        NEAR BAY\n",
       "20484       <1H OCEAN\n",
       "9814       NEAR OCEAN"
      ]
     },
     "execution_count": 113,
     "metadata": {},
     "output_type": "execute_result"
    }
   ],
   "source": [
    "#loading the 'ocean_proximity' into another object\n",
    "test_cat = test[['ocean_proximity']]\n",
    "test_cat.head()"
   ]
  },
  {
   "cell_type": "code",
   "execution_count": 114,
   "metadata": {},
   "outputs": [
    {
     "data": {
      "text/plain": [
       "<4128x5 sparse matrix of type '<class 'numpy.float64'>'\n",
       "\twith 4128 stored elements in Compressed Sparse Row format>"
      ]
     },
     "execution_count": 114,
     "metadata": {},
     "output_type": "execute_result"
    }
   ],
   "source": [
    "# applying OneHotEncoding on the 'ocean_proximity' column\n",
    "from sklearn.preprocessing import OneHotEncoder\n",
    "\n",
    "test_cat_encoder = OneHotEncoder()\n",
    "test_cat_1hot = test_cat_encoder.fit_transform(test_cat)\n",
    "test_cat_1hot\n"
   ]
  },
  {
   "cell_type": "code",
   "execution_count": 115,
   "metadata": {},
   "outputs": [
    {
     "data": {
      "text/plain": [
       "array([[0., 1., 0., 0., 0.],\n",
       "       [0., 1., 0., 0., 0.],\n",
       "       [0., 0., 0., 1., 0.],\n",
       "       ...,\n",
       "       [1., 0., 0., 0., 0.],\n",
       "       [0., 1., 0., 0., 0.],\n",
       "       [1., 0., 0., 0., 0.]])"
      ]
     },
     "execution_count": 115,
     "metadata": {},
     "output_type": "execute_result"
    }
   ],
   "source": [
    "# converting sparse matrix to array\n",
    "test_cat_1hot.toarray()"
   ]
  },
  {
   "cell_type": "code",
   "execution_count": 116,
   "metadata": {},
   "outputs": [
    {
     "data": {
      "text/plain": [
       "[array(['<1H OCEAN', 'INLAND', 'ISLAND', 'NEAR BAY', 'NEAR OCEAN'],\n",
       "       dtype=object)]"
      ]
     },
     "execution_count": 116,
     "metadata": {},
     "output_type": "execute_result"
    }
   ],
   "source": [
    "# displaying the various categories of the 'ocean_proximity' column\n",
    "test_cat_encoder.categories_"
   ]
  },
  {
   "cell_type": "code",
   "execution_count": 117,
   "metadata": {},
   "outputs": [],
   "source": [
    "#Feature engineering\n",
    "test['rooms_per_household'] = test['total_rooms']/test['households']\n",
    "test['bedrooms_per_room'] = test['total_bedrooms']/test['total_rooms']\n",
    "test['population_per_household'] = test['population']/test['households']"
   ]
  },
  {
   "cell_type": "code",
   "execution_count": 118,
   "metadata": {},
   "outputs": [
    {
     "data": {
      "text/plain": [
       "bedrooms_per_room          -0.249196\n",
       "latitude                   -0.149295\n",
       "population_per_household   -0.121853\n",
       "longitude                  -0.044062\n",
       "population                 -0.019003\n",
       "total_bedrooms              0.056667\n",
       "households                  0.074249\n",
       "housing_median_age          0.113585\n",
       "rooms_per_household         0.130928\n",
       "total_rooms                 0.134697\n",
       "median_income               0.677502\n",
       "median_house_value          1.000000\n",
       "Name: median_house_value, dtype: float64"
      ]
     },
     "execution_count": 118,
     "metadata": {},
     "output_type": "execute_result"
    }
   ],
   "source": [
    "# correlation of numerical columns in test data with the 'median_house_value' column\n",
    "test_corr_matrix = test.corr()\n",
    "test_corr_matrix['median_house_value'].sort_values(ascending = True)"
   ]
  },
  {
   "cell_type": "code",
   "execution_count": 119,
   "metadata": {},
   "outputs": [],
   "source": [
    "# copying the 'median_house_value' column into another object\n",
    "test_labels = test['median_house_value'].copy()"
   ]
  },
  {
   "cell_type": "code",
   "execution_count": 120,
   "metadata": {},
   "outputs": [],
   "source": [
    "# dropping the 'median_house_value' column from the test set\n",
    "test = test.drop('median_house_value',axis =1)"
   ]
  },
  {
   "cell_type": "code",
   "execution_count": 121,
   "metadata": {},
   "outputs": [],
   "source": [
    "# dropping the 'ocean_proximity' column from the test data once again\n",
    "test_num = test.drop('ocean_proximity',axis =1)"
   ]
  },
  {
   "cell_type": "code",
   "execution_count": 122,
   "metadata": {},
   "outputs": [
    {
     "data": {
      "text/plain": [
       "20046     47700.0\n",
       "3024      45800.0\n",
       "15663    500001.0\n",
       "20484    218600.0\n",
       "9814     278000.0\n",
       "Name: median_house_value, dtype: float64"
      ]
     },
     "execution_count": 122,
     "metadata": {},
     "output_type": "execute_result"
    }
   ],
   "source": [
    "# displaying the top 5 most frequent test label values or 'median_house_value' column values\n",
    "test_labels.head()"
   ]
  },
  {
   "cell_type": "code",
   "execution_count": 123,
   "metadata": {},
   "outputs": [
    {
     "name": "stdout",
     "output_type": "stream",
     "text": [
      "<class 'pandas.core.frame.DataFrame'>\n",
      "Int64Index: 4128 entries, 20046 to 3665\n",
      "Data columns (total 12 columns):\n",
      " #   Column                    Non-Null Count  Dtype  \n",
      "---  ------                    --------------  -----  \n",
      " 0   longitude                 4128 non-null   float64\n",
      " 1   latitude                  4128 non-null   float64\n",
      " 2   housing_median_age        4128 non-null   float64\n",
      " 3   total_rooms               4128 non-null   float64\n",
      " 4   total_bedrooms            3921 non-null   float64\n",
      " 5   population                4128 non-null   float64\n",
      " 6   households                4128 non-null   float64\n",
      " 7   median_income             4128 non-null   float64\n",
      " 8   ocean_proximity           4128 non-null   object \n",
      " 9   rooms_per_household       4128 non-null   float64\n",
      " 10  bedrooms_per_room         3921 non-null   float64\n",
      " 11  population_per_household  4128 non-null   float64\n",
      "dtypes: float64(11), object(1)\n",
      "memory usage: 419.2+ KB\n"
     ]
    }
   ],
   "source": [
    "#display some information about the test data\n",
    "test.info()"
   ]
  },
  {
   "cell_type": "code",
   "execution_count": 124,
   "metadata": {},
   "outputs": [],
   "source": [
    "#Feature scaling of numerical columns using standandization \n",
    "from sklearn.pipeline import Pipeline\n",
    "from sklearn.preprocessing import StandardScaler\n",
    "\n",
    "\n",
    "test_num_pipeline = Pipeline([('imputer',SimpleImputer(strategy ='median')),('std_scaler', StandardScaler())])\n",
    "\n",
    "test_num_tr = test_num_pipeline.fit_transform(test_num)"
   ]
  },
  {
   "cell_type": "code",
   "execution_count": 125,
   "metadata": {},
   "outputs": [],
   "source": [
    "#Combining the numerical columns back with the 'ocean_proximity' column after encoding\n",
    "from sklearn.compose import ColumnTransformer\n",
    "test_num_attribs = list(test_num)\n",
    "test_cat_attribs = ['ocean_proximity']\n",
    "\n",
    "test_full_pipeline = ColumnTransformer([('num',test_num_pipeline,test_num_attribs),('cat',OneHotEncoder(),\n",
    "test_cat_attribs)])\n",
    "\n",
    "test_prepared = test_full_pipeline.fit_transform(test)"
   ]
  },
  {
   "cell_type": "code",
   "execution_count": 126,
   "metadata": {},
   "outputs": [
    {
     "data": {
      "text/plain": [
       "(4128, 16)"
      ]
     },
     "execution_count": 126,
     "metadata": {},
     "output_type": "execute_result"
    }
   ],
   "source": [
    "#display dimensions of final prepared testing data without labels or output('meadian_house_value)\n",
    "test_prepared.shape"
   ]
  },
  {
   "cell_type": "code",
   "execution_count": 127,
   "metadata": {},
   "outputs": [],
   "source": [
    "#loading pre-trained random forest model\n",
    "import pickle\n",
    "\n",
    "model = pickle.load(open('forest_housing_model.sav','rb'))"
   ]
  },
  {
   "cell_type": "code",
   "execution_count": 128,
   "metadata": {},
   "outputs": [
    {
     "data": {
      "text/plain": [
       "RandomForestRegressor(max_features=6, n_estimators=30)"
      ]
     },
     "execution_count": 128,
     "metadata": {},
     "output_type": "execute_result"
    }
   ],
   "source": [
    "model"
   ]
  },
  {
   "cell_type": "code",
   "execution_count": 129,
   "metadata": {},
   "outputs": [
    {
     "data": {
      "text/plain": [
       "array([ 60750.        ,  95576.66666667, 367653.6       , ...,\n",
       "       498980.96666667, 112056.66666667, 160606.66666667])"
      ]
     },
     "execution_count": 129,
     "metadata": {},
     "output_type": "execute_result"
    }
   ],
   "source": [
    "# predict median_house_value based on input features from test set\n",
    "model.predict(test_prepared)"
   ]
  },
  {
   "cell_type": "code",
   "execution_count": 130,
   "metadata": {},
   "outputs": [
    {
     "data": {
      "text/plain": [
       "65090.676586497764"
      ]
     },
     "execution_count": 130,
     "metadata": {},
     "output_type": "execute_result"
    }
   ],
   "source": [
    "# computing the root mean squared error of the random forest model on test set \n",
    "from sklearn.metrics import mean_squared_error\n",
    "test_predictions = model.predict(test_prepared)\n",
    "\n",
    "test_mse = mean_squared_error(test_labels,test_predictions)\n",
    "\n",
    "test_rmse = np.sqrt(test_mse)\n",
    "\n",
    "test_rmse\n",
    "\n"
   ]
  },
  {
   "cell_type": "code",
   "execution_count": 131,
   "metadata": {},
   "outputs": [],
   "source": [
    "#loading the final stochastic gradient descent model\n",
    "model_stochastic = pickle.load(open('stochastic_housing_model.sav','rb'))"
   ]
  },
  {
   "cell_type": "code",
   "execution_count": 132,
   "metadata": {},
   "outputs": [
    {
     "data": {
      "text/plain": [
       "SGDRegressor(random_state=25)"
      ]
     },
     "execution_count": 132,
     "metadata": {},
     "output_type": "execute_result"
    }
   ],
   "source": [
    "model_stochastic"
   ]
  },
  {
   "cell_type": "code",
   "execution_count": 133,
   "metadata": {},
   "outputs": [
    {
     "data": {
      "text/plain": [
       "69366.27576820814"
      ]
     },
     "execution_count": 133,
     "metadata": {},
     "output_type": "execute_result"
    }
   ],
   "source": [
    "#calculating the root mean square value of the stochastic gradient descent model on test data \n",
    "from sklearn.metrics import mean_squared_error\n",
    "test_predictions_stochastic = model_stochastic.predict(test_prepared)\n",
    "\n",
    "stochastic_mse = mean_squared_error(test_labels,test_predictions_stochastic)\n",
    "\n",
    "stochastic_rmse = np.sqrt(stochastic_mse)\n",
    "\n",
    "stochastic_rmse\n"
   ]
  },
  {
   "cell_type": "code",
   "execution_count": 134,
   "metadata": {},
   "outputs": [],
   "source": [
    "# The random forest model performed better on the test data with an accuracy score of 65% than the Stochastic Gradient Descent with an accuracy score of 69%"
   ]
  },
  {
   "cell_type": "code",
   "execution_count": 135,
   "metadata": {},
   "outputs": [],
   "source": [
    "#Other models such as support vector machine can also be used to see if a better accuracy score can be achieved"
   ]
  },
  {
   "cell_type": "code",
   "execution_count": null,
   "metadata": {},
   "outputs": [],
   "source": []
  }
 ],
 "metadata": {
  "kernelspec": {
   "display_name": "Python 3.10.5 64-bit",
   "language": "python",
   "name": "python3"
  },
  "language_info": {
   "codemirror_mode": {
    "name": "ipython",
    "version": 3
   },
   "file_extension": ".py",
   "mimetype": "text/x-python",
   "name": "python",
   "nbconvert_exporter": "python",
   "pygments_lexer": "ipython3",
   "version": "3.10.5"
  },
  "orig_nbformat": 4,
  "vscode": {
   "interpreter": {
    "hash": "8c3d4d9970fc5c09c50d9318a9c7fbf4d0159e4b28833276f5678ee22bded273"
   }
  }
 },
 "nbformat": 4,
 "nbformat_minor": 2
}
